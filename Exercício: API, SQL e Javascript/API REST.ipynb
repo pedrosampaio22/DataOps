{
 "cells": [
  {
   "cell_type": "markdown",
   "metadata": {},
   "source": [
    "Parte 1: Consultar uma API REST com Python"
   ]
  },
  {
   "cell_type": "code",
   "execution_count": 56,
   "metadata": {},
   "outputs": [
    {
     "name": "stderr",
     "output_type": "stream",
     "text": [
      "2693.96s - pydevd: Sending message related to process being replaced timed-out after 5 seconds\n"
     ]
    },
    {
     "name": "stdout",
     "output_type": "stream",
     "text": [
      "Requirement already satisfied: requests in /Library/Frameworks/Python.framework/Versions/3.13/lib/python3.13/site-packages (2.32.3)\n",
      "Requirement already satisfied: charset-normalizer<4,>=2 in /Library/Frameworks/Python.framework/Versions/3.13/lib/python3.13/site-packages (from requests) (3.4.1)\n",
      "Requirement already satisfied: idna<4,>=2.5 in /Library/Frameworks/Python.framework/Versions/3.13/lib/python3.13/site-packages (from requests) (3.10)\n",
      "Requirement already satisfied: urllib3<3,>=1.21.1 in /Library/Frameworks/Python.framework/Versions/3.13/lib/python3.13/site-packages (from requests) (2.3.0)\n",
      "Requirement already satisfied: certifi>=2017.4.17 in /Library/Frameworks/Python.framework/Versions/3.13/lib/python3.13/site-packages (from requests) (2024.12.14)\n",
      "\n",
      "\u001b[1m[\u001b[0m\u001b[34;49mnotice\u001b[0m\u001b[1;39;49m]\u001b[0m\u001b[39;49m A new release of pip is available: \u001b[0m\u001b[31;49m24.2\u001b[0m\u001b[39;49m -> \u001b[0m\u001b[32;49m24.3.1\u001b[0m\n",
      "\u001b[1m[\u001b[0m\u001b[34;49mnotice\u001b[0m\u001b[1;39;49m]\u001b[0m\u001b[39;49m To update, run: \u001b[0m\u001b[32;49mpip3 install --upgrade pip\u001b[0m\n",
      "Note: you may need to restart the kernel to use updated packages.\n"
     ]
    }
   ],
   "source": [
    "%pip install requests"
   ]
  },
  {
   "cell_type": "code",
   "execution_count": 57,
   "metadata": {},
   "outputs": [
    {
     "name": "stdout",
     "output_type": "stream",
     "text": [
      "[{'id': 1, 'name': 'Leanne Graham', 'username': 'Bret', 'email': 'Sincere@april.biz', 'address': {'street': 'Kulas Light', 'suite': 'Apt. 556', 'city': 'Gwenborough', 'zipcode': '92998-3874', 'geo': {'lat': '-37.3159', 'lng': '81.1496'}}, 'phone': '1-770-736-8031 x56442', 'website': 'hildegard.org', 'company': {'name': 'Romaguera-Crona', 'catchPhrase': 'Multi-layered client-server neural-net', 'bs': 'harness real-time e-markets'}}, {'id': 2, 'name': 'Ervin Howell', 'username': 'Antonette', 'email': 'Shanna@melissa.tv', 'address': {'street': 'Victor Plains', 'suite': 'Suite 879', 'city': 'Wisokyburgh', 'zipcode': '90566-7771', 'geo': {'lat': '-43.9509', 'lng': '-34.4618'}}, 'phone': '010-692-6593 x09125', 'website': 'anastasia.net', 'company': {'name': 'Deckow-Crist', 'catchPhrase': 'Proactive didactic contingency', 'bs': 'synergize scalable supply-chains'}}, {'id': 3, 'name': 'Clementine Bauch', 'username': 'Samantha', 'email': 'Nathan@yesenia.net', 'address': {'street': 'Douglas Extension', 'suite': 'Suite 847', 'city': 'McKenziehaven', 'zipcode': '59590-4157', 'geo': {'lat': '-68.6102', 'lng': '-47.0653'}}, 'phone': '1-463-123-4447', 'website': 'ramiro.info', 'company': {'name': 'Romaguera-Jacobson', 'catchPhrase': 'Face to face bifurcated interface', 'bs': 'e-enable strategic applications'}}, {'id': 4, 'name': 'Patricia Lebsack', 'username': 'Karianne', 'email': 'Julianne.OConner@kory.org', 'address': {'street': 'Hoeger Mall', 'suite': 'Apt. 692', 'city': 'South Elvis', 'zipcode': '53919-4257', 'geo': {'lat': '29.4572', 'lng': '-164.2990'}}, 'phone': '493-170-9623 x156', 'website': 'kale.biz', 'company': {'name': 'Robel-Corkery', 'catchPhrase': 'Multi-tiered zero tolerance productivity', 'bs': 'transition cutting-edge web services'}}, {'id': 5, 'name': 'Chelsey Dietrich', 'username': 'Kamren', 'email': 'Lucio_Hettinger@annie.ca', 'address': {'street': 'Skiles Walks', 'suite': 'Suite 351', 'city': 'Roscoeview', 'zipcode': '33263', 'geo': {'lat': '-31.8129', 'lng': '62.5342'}}, 'phone': '(254)954-1289', 'website': 'demarco.info', 'company': {'name': 'Keebler LLC', 'catchPhrase': 'User-centric fault-tolerant solution', 'bs': 'revolutionize end-to-end systems'}}, {'id': 6, 'name': 'Mrs. Dennis Schulist', 'username': 'Leopoldo_Corkery', 'email': 'Karley_Dach@jasper.info', 'address': {'street': 'Norberto Crossing', 'suite': 'Apt. 950', 'city': 'South Christy', 'zipcode': '23505-1337', 'geo': {'lat': '-71.4197', 'lng': '71.7478'}}, 'phone': '1-477-935-8478 x6430', 'website': 'ola.org', 'company': {'name': 'Considine-Lockman', 'catchPhrase': 'Synchronised bottom-line interface', 'bs': 'e-enable innovative applications'}}, {'id': 7, 'name': 'Kurtis Weissnat', 'username': 'Elwyn.Skiles', 'email': 'Telly.Hoeger@billy.biz', 'address': {'street': 'Rex Trail', 'suite': 'Suite 280', 'city': 'Howemouth', 'zipcode': '58804-1099', 'geo': {'lat': '24.8918', 'lng': '21.8984'}}, 'phone': '210.067.6132', 'website': 'elvis.io', 'company': {'name': 'Johns Group', 'catchPhrase': 'Configurable multimedia task-force', 'bs': 'generate enterprise e-tailers'}}, {'id': 8, 'name': 'Nicholas Runolfsdottir V', 'username': 'Maxime_Nienow', 'email': 'Sherwood@rosamond.me', 'address': {'street': 'Ellsworth Summit', 'suite': 'Suite 729', 'city': 'Aliyaview', 'zipcode': '45169', 'geo': {'lat': '-14.3990', 'lng': '-120.7677'}}, 'phone': '586.493.6943 x140', 'website': 'jacynthe.com', 'company': {'name': 'Abernathy Group', 'catchPhrase': 'Implemented secondary concept', 'bs': 'e-enable extensible e-tailers'}}, {'id': 9, 'name': 'Glenna Reichert', 'username': 'Delphine', 'email': 'Chaim_McDermott@dana.io', 'address': {'street': 'Dayna Park', 'suite': 'Suite 449', 'city': 'Bartholomebury', 'zipcode': '76495-3109', 'geo': {'lat': '24.6463', 'lng': '-168.8889'}}, 'phone': '(775)976-6794 x41206', 'website': 'conrad.com', 'company': {'name': 'Yost and Sons', 'catchPhrase': 'Switchable contextually-based project', 'bs': 'aggregate real-time technologies'}}, {'id': 10, 'name': 'Clementina DuBuque', 'username': 'Moriah.Stanton', 'email': 'Rey.Padberg@karina.biz', 'address': {'street': 'Kattie Turnpike', 'suite': 'Suite 198', 'city': 'Lebsackbury', 'zipcode': '31428-2261', 'geo': {'lat': '-38.2386', 'lng': '57.2232'}}, 'phone': '024-648-3804', 'website': 'ambrose.net', 'company': {'name': 'Hoeger LLC', 'catchPhrase': 'Centralized empowering task-force', 'bs': 'target end-to-end models'}}]\n"
     ]
    }
   ],
   "source": [
    "import requests\n",
    "# Consultar a API\n",
    "response = requests.get(\"https://jsonplaceholder.typicode.com/users\")\n",
    "data = response.json()\n",
    "# Exibir dados para verificar\n",
    "print(data)"
   ]
  },
  {
   "cell_type": "markdown",
   "metadata": {},
   "source": [
    "1.2 Parte 2: Salvar os Dados em PostgreSQL"
   ]
  },
  {
   "cell_type": "code",
   "execution_count": 58,
   "metadata": {},
   "outputs": [],
   "source": [
    "import psycopg2\n",
    "# Conectar ao banco\n",
    "conn = psycopg2.connect(\n",
    "    dbname=\"meu_banco_teste\",\n",
    "    user=\"postgres\",\n",
    "    password=\"$Apple22\",\n",
    "    host=\"localhost\",\n",
    "    port=\"5432\"\n",
    ")\n",
    "cur = conn.cursor()\n",
    ",\n",
    "# Criar tabela se não existir\n",
    "cur.execute(\"\"\"\n",
    "CREATE TABLE IF NOT EXISTS users (\n",
    "id SERIAL PRIMARY KEY,\n",
    "name VARCHAR(100),\n",
    "email VARCHAR(100)\n",
    ")\n",
    "\"\"\")\n",
    "conn.commit()\n",
    "# Inserir dados no banco"
   ]
  },
  {
   "cell_type": "code",
   "execution_count": 59,
   "metadata": {},
   "outputs": [
    {
     "name": "stderr",
     "output_type": "stream",
     "text": [
      "2700.00s - pydevd: Sending message related to process being replaced timed-out after 5 seconds\n"
     ]
    },
    {
     "name": "stdout",
     "output_type": "stream",
     "text": [
      "Requirement already satisfied: psycopg2-binary in /Library/Frameworks/Python.framework/Versions/3.13/lib/python3.13/site-packages (2.9.10)\n",
      "\n",
      "\u001b[1m[\u001b[0m\u001b[34;49mnotice\u001b[0m\u001b[1;39;49m]\u001b[0m\u001b[39;49m A new release of pip is available: \u001b[0m\u001b[31;49m24.2\u001b[0m\u001b[39;49m -> \u001b[0m\u001b[32;49m24.3.1\u001b[0m\n",
      "\u001b[1m[\u001b[0m\u001b[34;49mnotice\u001b[0m\u001b[1;39;49m]\u001b[0m\u001b[39;49m To update, run: \u001b[0m\u001b[32;49mpip3 install --upgrade pip\u001b[0m\n",
      "Note: you may need to restart the kernel to use updated packages.\n"
     ]
    }
   ],
   "source": [
    "%pip install psycopg2-binary"
   ]
  },
  {
   "cell_type": "code",
   "execution_count": 60,
   "metadata": {},
   "outputs": [
    {
     "name": "stdout",
     "output_type": "stream",
     "text": [
      "postgres         11268   0.0  0.0 411384528   5424   ??  Ss   10:20PM   0:00.02 postgres: postgres meu_banco_teste ::1(49420) idle  \n",
      "postgres         10980   0.0  0.0 410743040    768 s001  S+   10:08PM   0:00.01 bash\n",
      "root             10979   0.0  0.0 410603056   4864 s001  S    10:08PM   0:00.01 su postgres\n",
      "root             10975   0.0  0.0 410454240   4032 s001  S    10:07PM   0:00.03 sudo su postgres\n",
      "postgres         10942   0.0  0.0 411384528   5600   ??  Ss   10:06PM   0:00.45 postgres: postgres meu_banco_teste ::1(65088) idle  \n",
      "postgres         10841   0.0  0.0 411384528   5632   ??  Ss    9:57PM   0:00.65 postgres: postgres postgres ::1(64699) idle  \n",
      "postgres          1256   0.0  0.0 426958832   5296   ??  S     8:50AM   0:00.17 /usr/libexec/lsd\n",
      "postgres          1253   0.0  0.0 426958160   7696   ??  SN    8:50AM   0:00.62 /System/Library/Frameworks/CoreServices.framework/Frameworks/Metadata.framework/Versions/A/Support/mdbulkimport -s mdworker-bundle -c MDSImporterBundleFinder -m com.apple.metadata.mdbulkimport\n",
      "postgres          1251   0.0  0.0 426916096   2144   ??  S     8:50AM   0:01.84 /usr/sbin/distnoted agent\n",
      "postgres           823   0.0  0.0 411384528   1776   ??  Ss    8:49AM   0:00.08 postgres: logical replication launcher   \n",
      "postgres           821   0.0  0.0 411384528   2896   ??  Ss    8:49AM   0:00.56 postgres: autovacuum launcher   \n",
      "postgres           820   0.0  0.0 411251408   1344   ??  Ss    8:49AM   0:00.26 postgres: walwriter   \n",
      "postgres           818   0.0  0.0 411121360   1488   ??  Ss    8:49AM   0:00.27 postgres: background writer   \n",
      "postgres           817   0.0  0.0 411252432   1936   ??  Ss    8:49AM   0:00.08 postgres: checkpointer   \n",
      "postgres           813   0.0  0.0 410974976    960   ??  Ss    8:49AM   0:00.00 postgres: logger   \n",
      "postgres           547   0.0  0.0 411120656   3408   ??  Ss    8:49AM   0:02.40 /Library/PostgreSQL/17/bin/postgres -D /Library/PostgreSQL/17/data\n",
      "postgres         12750   0.0  0.1 411253456   9184   ??  Ss   11:02PM   0:00.01 postgres: postgres meu_banco_teste ::1(51988) idle  \n",
      "\n",
      "Successfully connected to PostgreSQL\n"
     ]
    }
   ],
   "source": [
    "# Check PostgreSQL installation and service\n",
    "import subprocess\n",
    "import sys\n",
    "\n",
    "def run_command(command):\n",
    "    try:\n",
    "        result = subprocess.run(command, shell=True, check=True, \n",
    "                              capture_output=True, text=True)\n",
    "        return result.stdout\n",
    "    except subprocess.CalledProcessError as e:\n",
    "        print(f\"Error running command: {e}\")\n",
    "        return None\n",
    "\n",
    "# Check if PostgreSQL is running\n",
    "pg_status = run_command('ps aux | grep postgres | grep -v grep')\n",
    "cur.execute(\"SELECT 1 FROM pg_database WHERE datname = 'meu_banco_teste'\")\n",
    "print(pg_status if pg_status else \"PostgreSQL is not running\")\n",
    "\n",
    "# Try database connection\n",
    "try:\n",
    "    conn = psycopg2.connect(\n",
    "        dbname=\"meu_banco_teste\",\n",
    "        user=\"postgres\",\n",
    "        password=\"$Apple22\",\n",
    "        host=\"localhost\",\n",
    "        port=\"5432\"\n",
    "    )\n",
    "    print(\"Successfully connected to PostgreSQL\")\n",
    "    conn.close()\n",
    "except Exception as e:\n",
    "    print(f\"Connection error: {e}\")\n",
    "\n",
    "# Connect to database with new password\n",
    "import psycopg2\n",
    "conn = psycopg2.connect(\n",
    "    dbname=\"meu_banco_teste\",\n",
    "    user=\"postgres\",\n",
    "    password=\"$Apple22\",\n",
    "    host=\"localhost\",\n",
    "    port=\"5432\"\n",
    ")\n",
    "cur = conn.cursor()\n",
    "\n",
    "# Create new database if needed\n",
    "cur.execute(\"SELECT 1 FROM pg_database WHERE datname = 'meu_banco_teste'\")\n",
    "if not cur.fetchone():\n",
    "    # Close default connection\n",
    "    cur.close()\n",
    "    conn.close()\n",
    "    # Connect to postgres db to create new db\n",
    "    conn = psycopg2.connect(\n",
    "        dbname=\"postgres\",\n",
    "        user=\"postgres\",\n",
    "        password=\"your_new_password\",\n",
    "        host=\"localhost\",\n",
    "        port=\"5432\"\n",
    "    )\n",
    "    conn.autocommit = True\n",
    "    cur = conn.cursor()\n",
    "    cur.execute(\"CREATE DATABASE meu_banco_teste\")\n",
    "    cur.close()\n",
    "    conn.close()\n",
    "    \n",
    "    # Connect to new database\n",
    "    conn = psycopg2.connect(\n",
    "        dbname=\"meu_banco_teste\",\n",
    "        user=\"postgres\",\n",
    "        password=\"your_new_password\",\n",
    "        host=\"localhost\",\n",
    "        port=\"5432\"\n",
    "    )\n",
    "    cur = conn.cursor()\n",
    "\n",
    "# Continue with your table creation"
   ]
  },
  {
   "cell_type": "code",
   "execution_count": 61,
   "metadata": {},
   "outputs": [
    {
     "name": "stdout",
     "output_type": "stream",
     "text": [
      "Homebrew path: \n"
     ]
    }
   ],
   "source": [
    "# New cell to verify environment\n",
    "import os\n",
    "import subprocess\n",
    "\n",
    "def check_installation():\n",
    "    # Check if Homebrew is in PATH\n",
    "    brew_path = subprocess.run(['which', 'brew'], \n",
    "                             capture_output=True, \n",
    "                             text=True).stdout.strip()\n",
    "    print(f\"Homebrew path: {brew_path}\")\n",
    "    \n",
    "    # Check if PostgreSQL is installed\n",
    "    if brew_path:\n",
    "        pg_status = subprocess.run(['brew', 'list', 'postgresql@14'], \n",
    "                                 capture_output=True, \n",
    "                                 text=True)\n",
    "        print(\"PostgreSQL status:\", \n",
    "              \"Installed\" if pg_status.returncode == 0 else \"Not installed\")\n",
    "\n",
    "check_installation()\n",
    "\n",
    "# If you see \"Homebrew path: \" empty, restart your terminal and try again\n",
    "# If PostgreSQL is not installed, run these commands in terminal:\n",
    "# brew install postgresql@14\n",
    "# brew services start postgresql@14"
   ]
  },
  {
   "cell_type": "markdown",
   "metadata": {},
   "source": [
    "**1.3 Parte 3: Criar uma API Local com Python**"
   ]
  },
  {
   "cell_type": "code",
   "execution_count": 62,
   "metadata": {},
   "outputs": [
    {
     "name": "stderr",
     "output_type": "stream",
     "text": [
      "2705.84s - pydevd: Sending message related to process being replaced timed-out after 5 seconds\n"
     ]
    },
    {
     "name": "stdout",
     "output_type": "stream",
     "text": [
      "Requirement already satisfied: flask in /Library/Frameworks/Python.framework/Versions/3.13/lib/python3.13/site-packages (3.1.0)\n",
      "Requirement already satisfied: Werkzeug>=3.1 in /Library/Frameworks/Python.framework/Versions/3.13/lib/python3.13/site-packages (from flask) (3.1.3)\n",
      "Requirement already satisfied: Jinja2>=3.1.2 in /Library/Frameworks/Python.framework/Versions/3.13/lib/python3.13/site-packages (from flask) (3.1.5)\n",
      "Requirement already satisfied: itsdangerous>=2.2 in /Library/Frameworks/Python.framework/Versions/3.13/lib/python3.13/site-packages (from flask) (2.2.0)\n",
      "Requirement already satisfied: click>=8.1.3 in /Library/Frameworks/Python.framework/Versions/3.13/lib/python3.13/site-packages (from flask) (8.1.8)\n",
      "Requirement already satisfied: blinker>=1.9 in /Library/Frameworks/Python.framework/Versions/3.13/lib/python3.13/site-packages (from flask) (1.9.0)\n",
      "Requirement already satisfied: MarkupSafe>=2.0 in /Library/Frameworks/Python.framework/Versions/3.13/lib/python3.13/site-packages (from Jinja2>=3.1.2->flask) (3.0.2)\n",
      "\n",
      "\u001b[1m[\u001b[0m\u001b[34;49mnotice\u001b[0m\u001b[1;39;49m]\u001b[0m\u001b[39;49m A new release of pip is available: \u001b[0m\u001b[31;49m24.2\u001b[0m\u001b[39;49m -> \u001b[0m\u001b[32;49m24.3.1\u001b[0m\n",
      "\u001b[1m[\u001b[0m\u001b[34;49mnotice\u001b[0m\u001b[1;39;49m]\u001b[0m\u001b[39;49m To update, run: \u001b[0m\u001b[32;49mpip3 install --upgrade pip\u001b[0m\n",
      "Note: you may need to restart the kernel to use updated packages.\n"
     ]
    }
   ],
   "source": [
    "pip install flask"
   ]
  },
  {
   "cell_type": "code",
   "execution_count": 63,
   "metadata": {},
   "outputs": [
    {
     "name": "stderr",
     "output_type": "stream",
     "text": [
      "2711.56s - pydevd: Sending message related to process being replaced timed-out after 5 seconds\n"
     ]
    },
    {
     "name": "stdout",
     "output_type": "stream",
     "text": [
      "Requirement already satisfied: flask in /Library/Frameworks/Python.framework/Versions/3.13/lib/python3.13/site-packages (3.1.0)\n",
      "Requirement already satisfied: Werkzeug>=3.1 in /Library/Frameworks/Python.framework/Versions/3.13/lib/python3.13/site-packages (from flask) (3.1.3)\n",
      "Requirement already satisfied: Jinja2>=3.1.2 in /Library/Frameworks/Python.framework/Versions/3.13/lib/python3.13/site-packages (from flask) (3.1.5)\n",
      "Requirement already satisfied: itsdangerous>=2.2 in /Library/Frameworks/Python.framework/Versions/3.13/lib/python3.13/site-packages (from flask) (2.2.0)\n",
      "Requirement already satisfied: click>=8.1.3 in /Library/Frameworks/Python.framework/Versions/3.13/lib/python3.13/site-packages (from flask) (8.1.8)\n",
      "Requirement already satisfied: blinker>=1.9 in /Library/Frameworks/Python.framework/Versions/3.13/lib/python3.13/site-packages (from flask) (1.9.0)\n",
      "Requirement already satisfied: MarkupSafe>=2.0 in /Library/Frameworks/Python.framework/Versions/3.13/lib/python3.13/site-packages (from Jinja2>=3.1.2->flask) (3.0.2)\n",
      "\n",
      "\u001b[1m[\u001b[0m\u001b[34;49mnotice\u001b[0m\u001b[1;39;49m]\u001b[0m\u001b[39;49m A new release of pip is available: \u001b[0m\u001b[31;49m24.2\u001b[0m\u001b[39;49m -> \u001b[0m\u001b[32;49m24.3.1\u001b[0m\n",
      "\u001b[1m[\u001b[0m\u001b[34;49mnotice\u001b[0m\u001b[1;39;49m]\u001b[0m\u001b[39;49m To update, run: \u001b[0m\u001b[32;49mpip3 install --upgrade pip\u001b[0m\n",
      "Note: you may need to restart the kernel to use updated packages.\n",
      " * Serving Flask app '__main__'\n",
      " * Debug mode: on\n"
     ]
    },
    {
     "name": "stderr",
     "output_type": "stream",
     "text": [
      "\u001b[31m\u001b[1mWARNING: This is a development server. Do not use it in a production deployment. Use a production WSGI server instead.\u001b[0m\n",
      " * Running on http://127.0.0.1:5000\n",
      "\u001b[33mPress CTRL+C to quit\u001b[0m\n",
      " * Restarting with stat\n",
      "0.00s - Debugger warning: It seems that frozen modules are being used, which may\n",
      "0.00s - make the debugger miss breakpoints. Please pass -Xfrozen_modules=off\n",
      "0.00s - to python to disable frozen modules.\n",
      "0.00s - Note: Debugging will proceed. Set PYDEVD_DISABLE_FILE_VALIDATION=1 to disable this validation.\n",
      "Traceback (most recent call last):\n",
      "  File \"/Users/pedrosampaio/Library/Python/3.13/lib/python/site-packages/debugpy/_vendored/pydevd/pydevd.py\", line 3710, in <module>\n",
      "    main()\n",
      "    ~~~~^^\n",
      "  File \"/Users/pedrosampaio/Library/Python/3.13/lib/python/site-packages/debugpy/_vendored/pydevd/pydevd.py\", line 3695, in main\n",
      "    globals = debugger.run(setup[\"file\"], None, None, is_module)\n",
      "  File \"/Users/pedrosampaio/Library/Python/3.13/lib/python/site-packages/debugpy/_vendored/pydevd/pydevd.py\", line 2691, in run\n",
      "    return self._exec(is_module, entry_point_fn, module_name, file, globals, locals)\n",
      "           ~~~~~~~~~~^^^^^^^^^^^^^^^^^^^^^^^^^^^^^^^^^^^^^^^^^^^^^^^^^^^^^^^^^^^^^^^\n",
      "  File \"/Users/pedrosampaio/Library/Python/3.13/lib/python/site-packages/debugpy/_vendored/pydevd/pydevd.py\", line 2710, in _exec\n",
      "    globals = pydevd_runpy._run_module_as_main(module_name, alter_argv=False)\n",
      "  File \"/Users/pedrosampaio/Library/Python/3.13/lib/python/site-packages/debugpy/_vendored/pydevd/_pydevd_bundle/pydevd_runpy.py\", line 228, in _run_module_as_main\n",
      "    return _run_code(code, main_globals, None, \"__main__\", mod_spec)\n",
      "  File \"/Users/pedrosampaio/Library/Python/3.13/lib/python/site-packages/debugpy/_vendored/pydevd/_pydevd_bundle/pydevd_runpy.py\", line 118, in _run_code\n",
      "    exec(code, run_globals)\n",
      "    ~~~~^^^^^^^^^^^^^^^^^^^\n",
      "  File \"/Users/pedrosampaio/Library/Python/3.13/lib/python/site-packages/ipykernel_launcher.py\", line 18, in <module>\n",
      "    app.launch_new_instance()\n",
      "    ~~~~~~~~~~~~~~~~~~~~~~~^^\n",
      "  File \"/Users/pedrosampaio/Library/Python/3.13/lib/python/site-packages/traitlets/config/application.py\", line 1074, in launch_instance\n",
      "    app.initialize(argv)\n",
      "    ~~~~~~~~~~~~~~^^^^^^\n",
      "  File \"/Users/pedrosampaio/Library/Python/3.13/lib/python/site-packages/traitlets/config/application.py\", line 118, in inner\n",
      "    return method(app, *args, **kwargs)\n",
      "  File \"/Users/pedrosampaio/Library/Python/3.13/lib/python/site-packages/ipykernel/kernelapp.py\", line 692, in initialize\n",
      "    self.init_sockets()\n",
      "    ~~~~~~~~~~~~~~~~~^^\n",
      "  File \"/Users/pedrosampaio/Library/Python/3.13/lib/python/site-packages/ipykernel/kernelapp.py\", line 331, in init_sockets\n",
      "    self.shell_port = self._bind_socket(self.shell_socket, self.shell_port)\n",
      "                      ~~~~~~~~~~~~~~~~~^^^^^^^^^^^^^^^^^^^^^^^^^^^^^^^^^^^^\n",
      "  File \"/Users/pedrosampaio/Library/Python/3.13/lib/python/site-packages/ipykernel/kernelapp.py\", line 253, in _bind_socket\n",
      "    return self._try_bind_socket(s, port)\n",
      "           ~~~~~~~~~~~~~~~~~~~~~^^^^^^^^^\n",
      "  File \"/Users/pedrosampaio/Library/Python/3.13/lib/python/site-packages/ipykernel/kernelapp.py\", line 229, in _try_bind_socket\n",
      "    s.bind(\"tcp://%s:%i\" % (self.ip, port))\n",
      "    ~~~~~~^^^^^^^^^^^^^^^^^^^^^^^^^^^^^^^^^\n",
      "  File \"/Users/pedrosampaio/Library/Python/3.13/lib/python/site-packages/zmq/sugar/socket.py\", line 311, in bind\n",
      "    super().bind(addr)\n",
      "    ~~~~~~~~~~~~^^^^^^\n",
      "  File \"_zmq.py\", line 917, in zmq.backend.cython._zmq.Socket.bind\n",
      "  File \"_zmq.py\", line 179, in zmq.backend.cython._zmq._check_rc\n",
      "zmq.error.ZMQError: Address already in use (addr='tcp://127.0.0.1:9012')\n"
     ]
    },
    {
     "ename": "SystemExit",
     "evalue": "1",
     "output_type": "error",
     "traceback": [
      "An exception has occurred, use %tb to see the full traceback.\n",
      "\u001b[0;31mSystemExit\u001b[0m\u001b[0;31m:\u001b[0m 1\n"
     ]
    },
    {
     "name": "stderr",
     "output_type": "stream",
     "text": [
      "/Users/pedrosampaio/Library/Python/3.13/lib/python/site-packages/IPython/core/interactiveshell.py:3585: UserWarning: To exit: use 'exit', 'quit', or Ctrl-D.\n",
      "  warn(\"To exit: use 'exit', 'quit', or Ctrl-D.\", stacklevel=1)\n"
     ]
    }
   ],
   "source": [
    "# Install Flask if not already installed\n",
    "%pip install flask\n",
    "\n",
    "# Flask API Implementation with fixed connection handling\n",
    "from flask import Flask, jsonify\n",
    "import psycopg2\n",
    "\n",
    "app = Flask(__name__)\n",
    "\n",
    "def get_users():\n",
    "    try:\n",
    "        # Create new connection for each request\n",
    "        conn = psycopg2.connect(\n",
    "            dbname=\"meu_banco_teste\",\n",
    "            user=\"postgres\",\n",
    "            password=\"$Apple22\",\n",
    "            host=\"localhost\",\n",
    "            port=\"5432\"\n",
    "        )\n",
    "        \n",
    "        # Create cursor and execute query\n",
    "        cur = conn.cursor()\n",
    "        cur.execute(\"SELECT name, email FROM users\")\n",
    "        users = cur.fetchall()\n",
    "        \n",
    "        # Close cursor and connection\n",
    "        cur.close()\n",
    "        conn.close()\n",
    "        \n",
    "        # Return formatted results\n",
    "        return [{\n",
    "            \"name\": user[0], \n",
    "            \"email\": user[1]\n",
    "        } for user in users]\n",
    "        \n",
    "    except Exception as e:\n",
    "        print(f\"Database error: {e}\")\n",
    "        return []\n",
    "\n",
    "@app.route('/users', methods=['GET'])\n",
    "def users():\n",
    "    return jsonify(get_users())\n",
    "\n",
    "if __name__ == '__main__':\n",
    "    app.run(debug=True)"
   ]
  },
  {
   "cell_type": "code",
   "execution_count": 18,
   "metadata": {},
   "outputs": [
    {
     "ename": "SyntaxError",
     "evalue": "invalid syntax (2583986546.py, line 5)",
     "output_type": "error",
     "traceback": [
      "\u001b[0;36m  Cell \u001b[0;32mIn[18], line 5\u001b[0;36m\u001b[0m\n\u001b[0;31m    <script>\u001b[0m\n\u001b[0m    ^\u001b[0m\n\u001b[0;31mSyntaxError\u001b[0m\u001b[0;31m:\u001b[0m invalid syntax\n"
     ]
    }
   ],
   "source": [
    "# JavaScript code to consume the API\n",
    "%%html\n",
    "\n",
    "\n",
    "<script>\n",
    "(async function() {\n",
    "    try {\n",
    "        const response = await fetch('http://127.0.0.1:5000/users');\n",
    "        const data = await response.json();\n",
    "        \n",
    "        // Log all users\n",
    "        console.log(\"Usuários recebidos:\", data);\n",
    "        \n",
    "        // Filter Gmail users\n",
    "        const filteredUsers = data.filter(user => \n",
    "            user.email.toLowerCase().includes('@gmail.com')\n",
    "        );\n",
    "        console.log(\"Usuários com email do Gmail:\", filteredUsers);\n",
    "        \n",
    "        // Display results in notebook\n",
    "        document.getElementById('results').innerHTML = `\n",
    "            <h3>Todos os usuários:</h3>\n",
    "            <pre>${JSON.stringify(data, null, 2)}</pre>\n",
    "            <h3>Usuários Gmail:</h3>\n",
    "            <pre>${JSON.stringify(filteredUsers, null, 2)}</pre>\n",
    "        `;\n",
    "    } catch (error) {\n",
    "        console.error(\"Erro ao consumir API:\", error);\n",
    "        document.getElementById('results').innerHTML = \n",
    "            `<p style=\"color: red\">Erro ao consumir API: ${error.message}</p>`;\n",
    "    }\n",
    "})();\n",
    "</script>"
   ]
  }
 ],
 "metadata": {
  "kernelspec": {
   "display_name": "Python 3",
   "language": "python",
   "name": "python3"
  },
  "language_info": {
   "codemirror_mode": {
    "name": "ipython",
    "version": 3
   },
   "file_extension": ".py",
   "mimetype": "text/x-python",
   "name": "python",
   "nbconvert_exporter": "python",
   "pygments_lexer": "ipython3",
   "version": "3.13.0"
  }
 },
 "nbformat": 4,
 "nbformat_minor": 2
}
